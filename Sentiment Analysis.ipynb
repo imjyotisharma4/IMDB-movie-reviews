{
 "cells": [
  {
   "cell_type": "code",
   "execution_count": 167,
   "id": "866522f9",
   "metadata": {},
   "outputs": [],
   "source": [
    "import numpy as np\n",
    "import pandas as pd"
   ]
  },
  {
   "cell_type": "code",
   "execution_count": 168,
   "id": "1c34e505",
   "metadata": {},
   "outputs": [],
   "source": [
    "import os"
   ]
  },
  {
   "cell_type": "code",
   "execution_count": 169,
   "id": "6c137ffc",
   "metadata": {},
   "outputs": [],
   "source": [
    "movie=pd.read_csv(\"IMDB_Dataset[1].csv\")"
   ]
  },
  {
   "cell_type": "code",
   "execution_count": 170,
   "id": "af468caf",
   "metadata": {},
   "outputs": [
    {
     "data": {
      "text/html": [
       "<div>\n",
       "<style scoped>\n",
       "    .dataframe tbody tr th:only-of-type {\n",
       "        vertical-align: middle;\n",
       "    }\n",
       "\n",
       "    .dataframe tbody tr th {\n",
       "        vertical-align: top;\n",
       "    }\n",
       "\n",
       "    .dataframe thead th {\n",
       "        text-align: right;\n",
       "    }\n",
       "</style>\n",
       "<table border=\"1\" class=\"dataframe\">\n",
       "  <thead>\n",
       "    <tr style=\"text-align: right;\">\n",
       "      <th></th>\n",
       "      <th>review</th>\n",
       "      <th>sentiment</th>\n",
       "    </tr>\n",
       "  </thead>\n",
       "  <tbody>\n",
       "    <tr>\n",
       "      <th>0</th>\n",
       "      <td>One of the other reviewers has mentioned that ...</td>\n",
       "      <td>positive</td>\n",
       "    </tr>\n",
       "    <tr>\n",
       "      <th>1</th>\n",
       "      <td>A wonderful little production. &lt;br /&gt;&lt;br /&gt;The...</td>\n",
       "      <td>positive</td>\n",
       "    </tr>\n",
       "    <tr>\n",
       "      <th>2</th>\n",
       "      <td>I thought this was a wonderful way to spend ti...</td>\n",
       "      <td>positive</td>\n",
       "    </tr>\n",
       "    <tr>\n",
       "      <th>3</th>\n",
       "      <td>Basically there's a family where a little boy ...</td>\n",
       "      <td>negative</td>\n",
       "    </tr>\n",
       "    <tr>\n",
       "      <th>4</th>\n",
       "      <td>Petter Mattei's \"Love in the Time of Money\" is...</td>\n",
       "      <td>positive</td>\n",
       "    </tr>\n",
       "  </tbody>\n",
       "</table>\n",
       "</div>"
      ],
      "text/plain": [
       "                                              review sentiment\n",
       "0  One of the other reviewers has mentioned that ...  positive\n",
       "1  A wonderful little production. <br /><br />The...  positive\n",
       "2  I thought this was a wonderful way to spend ti...  positive\n",
       "3  Basically there's a family where a little boy ...  negative\n",
       "4  Petter Mattei's \"Love in the Time of Money\" is...  positive"
      ]
     },
     "execution_count": 170,
     "metadata": {},
     "output_type": "execute_result"
    }
   ],
   "source": [
    "movie.head()"
   ]
  },
  {
   "cell_type": "code",
   "execution_count": 171,
   "id": "96135eec",
   "metadata": {},
   "outputs": [],
   "source": [
    "movie['sentiment'].replace({'positive':1,'negative':0},inplace=True)"
   ]
  },
  {
   "cell_type": "code",
   "execution_count": 172,
   "id": "04a9357e",
   "metadata": {},
   "outputs": [
    {
     "data": {
      "text/plain": [
       "\"One of the other reviewers has mentioned that after watching just 1 Oz episode you'll be hooked. They are right, as this is exactly what happened with me.<br /><br />The first thing that struck me about Oz was its brutality and unflinching scenes of violence, which set in right from the word GO. Trust me, this is not a show for the faint hearted or timid. This show pulls no punches with regards to drugs, sex or violence. Its is hardcore, in the classic use of the word.<br /><br />It is called OZ as that is the nickname given to the Oswald Maximum Security State Penitentary. It focuses mainly on Emerald City, an experimental section of the prison where all the cells have glass fronts and face inwards, so privacy is not high on the agenda. Em City is home to many..Aryans, Muslims, gangstas, Latinos, Christians, Italians, Irish and more....so scuffles, death stares, dodgy dealings and shady agreements are never far away.<br /><br />I would say the main appeal of the show is due to the fact that it goes where other shows wouldn't dare. Forget pretty pictures painted for mainstream audiences, forget charm, forget romance...OZ doesn't mess around. The first episode I ever saw struck me as so nasty it was surreal, I couldn't say I was ready for it, but as I watched more, I developed a taste for Oz, and got accustomed to the high levels of graphic violence. Not just violence, but injustice (crooked guards who'll be sold out for a nickel, inmates who'll kill on order and get away with it, well mannered, middle class inmates being turned into prison bitches due to their lack of street skills or prison experience) Watching Oz, you may become comfortable with what is uncomfortable viewing....thats if you can get in touch with your darker side.\""
      ]
     },
     "execution_count": 172,
     "metadata": {},
     "output_type": "execute_result"
    }
   ],
   "source": [
    "#  one review\n",
    "movie['review'][0]"
   ]
  },
  {
   "cell_type": "code",
   "execution_count": 173,
   "id": "1881c98c",
   "metadata": {},
   "outputs": [
    {
     "data": {
      "text/plain": [
       "'Taut and organically gripping, Edward Dmytryk\\'s Crossfire is a distinctive suspense thriller, an unlikely \"message\" movie using the look and devices of the noir cycle.<br /><br />Bivouacked in Washington, DC, a company of soldiers cope with their restlessness by hanging out in bars. Three of them end up at a stranger\\'s apartment where Robert Ryan, drunk and belligerent, beats their host (Sam Levene) to death because he happens to be Jewish. Police detective Robert Young investigates with the help of Robert Mitchum, who\\'s assigned to Ryan\\'s outfit. Suspicion falls on the second of the three (George Cooper), who has vanished. Ryan slays the third buddy (Steve Brodie) to insure his silence before Young closes in.<br /><br />Abetted by a superior script by John Paxton, Dmytryk draws precise performances from his three starring Bobs. Ryan, naturally, does his prototypical Angry White Male (and to the hilt), while Mitchum underplays with his characteristic alert nonchalance (his role, however, is not central); Young may never have been better. Gloria Grahame gives her first fully-fledged rendition of the smart-mouthed, vulnerable tramp, and, as a sad sack who\\'s leeched into her life, Paul Kelly haunts us in a small, peripheral role that he makes memorable.<br /><br />The politically engaged Dmytryk perhaps inevitably succumbs to sermonizing, but it\\'s pretty much confined to Young\\'s reminiscence of how his Irish grandfather died at the hands of bigots a century earlier (thus, incidentally, stretching chronology to the limit). At least there\\'s no attempt to render an explanation, however glib, of why Ryan hates Jews (and hillbillies and...).<br /><br />Curiously, Crossfire survives even the major change wrought upon it -- the novel it\\'s based on (Richard Brooks\\' The Brick Foxhole) dealt with a gay-bashing murder. But homosexuality in 1947 was still Beyond The Pale. News of the Holocaust had, however, begun to emerge from the ashes of Europe, so Hollywood felt emboldened to register its protest against anti-Semitism (the studios always quaked at the prospect of offending any potential ticket buyer).<br /><br />But while the change from homophobia to anti-Semitism works in general, the specifics don\\'t fit so smoothly. The victim\\'s chatting up a lonesome, drunk young soldier then inviting him back home looks odd, even though (or especially since) there\\'s a girlfriend in tow. It raises the question whether this scenario was retained inadvertently or left in as a discreet tip-off to the original engine generating Ryan\\'s murderous rage.'"
      ]
     },
     "execution_count": 173,
     "metadata": {},
     "output_type": "execute_result"
    }
   ],
   "source": [
    "movie['review'][30]"
   ]
  },
  {
   "cell_type": "markdown",
   "id": "8b02bbc4",
   "metadata": {},
   "source": [
    "# Text Cleaning"
   ]
  },
  {
   "cell_type": "markdown",
   "id": "eeeb75e6",
   "metadata": {},
   "source": [
    "#  needs to remove  htmltags, specialcharacters, Convert to lower case, removing stop words(and, or..) and stemming (play,playing,played....on stemming..answer will be play) .."
   ]
  },
  {
   "cell_type": "code",
   "execution_count": 174,
   "id": "2c04d3c7",
   "metadata": {},
   "outputs": [],
   "source": [
    "movie=movie.sample(50000)"
   ]
  },
  {
   "cell_type": "code",
   "execution_count": 175,
   "id": "1b65fca1",
   "metadata": {},
   "outputs": [
    {
     "data": {
      "text/plain": [
       "(50000, 2)"
      ]
     },
     "execution_count": 175,
     "metadata": {},
     "output_type": "execute_result"
    }
   ],
   "source": [
    "movie.shape"
   ]
  },
  {
   "cell_type": "code",
   "execution_count": 176,
   "id": "496c9a66",
   "metadata": {},
   "outputs": [
    {
     "name": "stdout",
     "output_type": "stream",
     "text": [
      "<class 'pandas.core.frame.DataFrame'>\n",
      "Int64Index: 50000 entries, 45638 to 49864\n",
      "Data columns (total 2 columns):\n",
      " #   Column     Non-Null Count  Dtype \n",
      "---  ------     --------------  ----- \n",
      " 0   review     50000 non-null  object\n",
      " 1   sentiment  50000 non-null  int64 \n",
      "dtypes: int64(1), object(1)\n",
      "memory usage: 1.1+ MB\n"
     ]
    }
   ],
   "source": [
    "movie.info()           # no missing values"
   ]
  },
  {
   "cell_type": "code",
   "execution_count": 177,
   "id": "090c2193",
   "metadata": {},
   "outputs": [
    {
     "data": {
      "text/plain": [
       "'I thought this was an excellent and very honest portrayal of paralysis and racism. This movie never panders to the audience and never gets predictable. The acting was top-notch and the movie reminded me of \"One Flew Over the Cuckoo\\'s Nest\".'"
      ]
     },
     "execution_count": 177,
     "metadata": {},
     "output_type": "execute_result"
    }
   ],
   "source": [
    "#  to remove tags \n",
    "import re\n",
    "clean=re.compile('<.*>?')\n",
    "re.sub(clean,\" \",movie.iloc[2].review)"
   ]
  },
  {
   "cell_type": "code",
   "execution_count": 178,
   "id": "9532134f",
   "metadata": {},
   "outputs": [],
   "source": [
    "#  function to clean html tags\n",
    "\n",
    "def clean(text):\n",
    "    clean=re.compile('<.*>?')\n",
    "    return re.sub(clean,\" \",text)"
   ]
  },
  {
   "cell_type": "code",
   "execution_count": 179,
   "id": "b167c6bb",
   "metadata": {},
   "outputs": [],
   "source": [
    "movie['review']=movie['review'].apply(clean)"
   ]
  },
  {
   "cell_type": "code",
   "execution_count": 180,
   "id": "11b898e9",
   "metadata": {},
   "outputs": [],
   "source": [
    "#  converting everything to lower case"
   ]
  },
  {
   "cell_type": "code",
   "execution_count": 181,
   "id": "af1afb29",
   "metadata": {},
   "outputs": [],
   "source": [
    "def convert_lower(text):\n",
    "    return text.lower()"
   ]
  },
  {
   "cell_type": "code",
   "execution_count": 182,
   "id": "046a5e29",
   "metadata": {},
   "outputs": [],
   "source": [
    "movie['review']=movie['review'].apply(convert_lower)"
   ]
  },
  {
   "cell_type": "code",
   "execution_count": 183,
   "id": "9fb89b74",
   "metadata": {},
   "outputs": [],
   "source": [
    "#  function to remove special characters\n",
    "\n",
    "def remove_special(text):\n",
    "    x=' '\n",
    "    \n",
    "    for i in text:\n",
    "        if i.isalnum():\n",
    "            x=x+i\n",
    "        else:\n",
    "            x=x+' '\n",
    "    return x\n",
    "        "
   ]
  },
  {
   "cell_type": "code",
   "execution_count": 184,
   "id": "d77ae866",
   "metadata": {},
   "outputs": [
    {
     "data": {
      "text/plain": [
       "' taut and organically gripping  edward dmytryk s crossfire is a distinctive suspense thriller  an unlikely  message  movie using the look and devices of the noir cycle  '"
      ]
     },
     "execution_count": 184,
     "metadata": {},
     "output_type": "execute_result"
    }
   ],
   "source": [
    "remove_special('taut and organically gripping, edward dmytryk\\'s crossfire is a distinctive suspense thriller, an unlikely \"message\" movie using the look and devices of the noir cycle. ')"
   ]
  },
  {
   "cell_type": "code",
   "execution_count": 185,
   "id": "e2062f71",
   "metadata": {},
   "outputs": [],
   "source": [
    "movie['review']=movie['review'].apply(remove_special)"
   ]
  },
  {
   "cell_type": "code",
   "execution_count": 186,
   "id": "265aefbd",
   "metadata": {},
   "outputs": [],
   "source": [
    "#  remove the stop words used in natural languagee toolkit\n",
    "import nltk"
   ]
  },
  {
   "cell_type": "code",
   "execution_count": 187,
   "id": "0b885941",
   "metadata": {},
   "outputs": [
    {
     "name": "stderr",
     "output_type": "stream",
     "text": [
      "[nltk_data] Downloading package stopwords to\n",
      "[nltk_data]     C:\\Users\\hp\\AppData\\Roaming\\nltk_data...\n",
      "[nltk_data]   Package stopwords is already up-to-date!\n"
     ]
    },
    {
     "data": {
      "text/plain": [
       "True"
      ]
     },
     "execution_count": 187,
     "metadata": {},
     "output_type": "execute_result"
    }
   ],
   "source": [
    "import nltk\n",
    "from nltk.corpus import stopwords\n",
    "nltk.download('stopwords')\n",
    "#  179 stopwords in english"
   ]
  },
  {
   "cell_type": "code",
   "execution_count": 192,
   "id": "295e2aff",
   "metadata": {},
   "outputs": [],
   "source": [
    "from nltk.corpus import stopwords"
   ]
  },
  {
   "cell_type": "code",
   "execution_count": 193,
   "id": "2ece9ea8",
   "metadata": {},
   "outputs": [],
   "source": [
    "#  for every text, there is a split and stored into a list. Loop is running for every 'i'. If the word given in stopwords is not presend then that word will be added to x.\n",
    "#  Those words are added to the list that are not stopwords"
   ]
  },
  {
   "cell_type": "code",
   "execution_count": 194,
   "id": "259918d6",
   "metadata": {},
   "outputs": [],
   "source": [
    "stopwords = stopwords.words('english')"
   ]
  },
  {
   "cell_type": "code",
   "execution_count": 198,
   "id": "98b5f702",
   "metadata": {},
   "outputs": [],
   "source": [
    "def remove_stopwords(text):\n",
    "    x=[]\n",
    "    for i in text.split():\n",
    "        \n",
    "        if i not in stopwords:\n",
    "            x.append(i)\n",
    "    y=x[:]\n",
    "    x.clear()\n",
    "    return y"
   ]
  },
  {
   "cell_type": "code",
   "execution_count": 199,
   "id": "5c292f11",
   "metadata": {},
   "outputs": [],
   "source": [
    "movie['review']=movie['review'].apply(remove_stopwords)"
   ]
  },
  {
   "cell_type": "code",
   "execution_count": 137,
   "id": "72f2c39f",
   "metadata": {},
   "outputs": [
    {
     "data": {
      "text/html": [
       "<div>\n",
       "<style scoped>\n",
       "    .dataframe tbody tr th:only-of-type {\n",
       "        vertical-align: middle;\n",
       "    }\n",
       "\n",
       "    .dataframe tbody tr th {\n",
       "        vertical-align: top;\n",
       "    }\n",
       "\n",
       "    .dataframe thead th {\n",
       "        text-align: right;\n",
       "    }\n",
       "</style>\n",
       "<table border=\"1\" class=\"dataframe\">\n",
       "  <thead>\n",
       "    <tr style=\"text-align: right;\">\n",
       "      <th></th>\n",
       "      <th>review</th>\n",
       "      <th>sentiment</th>\n",
       "    </tr>\n",
       "  </thead>\n",
       "  <tbody>\n",
       "    <tr>\n",
       "      <th>5413</th>\n",
       "      <td>on paper this looked like a great concept  a...</td>\n",
       "      <td>1</td>\n",
       "    </tr>\n",
       "    <tr>\n",
       "      <th>1254</th>\n",
       "      <td>good grief  while i still maintain that mano...</td>\n",
       "      <td>0</td>\n",
       "    </tr>\n",
       "    <tr>\n",
       "      <th>45908</th>\n",
       "      <td>it s nothing more than a weird coincidence t...</td>\n",
       "      <td>0</td>\n",
       "    </tr>\n",
       "    <tr>\n",
       "      <th>7992</th>\n",
       "      <td>the plot   in the future when nearly all men...</td>\n",
       "      <td>0</td>\n",
       "    </tr>\n",
       "    <tr>\n",
       "      <th>45360</th>\n",
       "      <td>i liked it    just that    i liked it  not l...</td>\n",
       "      <td>1</td>\n",
       "    </tr>\n",
       "    <tr>\n",
       "      <th>...</th>\n",
       "      <td>...</td>\n",
       "      <td>...</td>\n",
       "    </tr>\n",
       "    <tr>\n",
       "      <th>46451</th>\n",
       "      <td>bsg is one of my all time favourite tv serie...</td>\n",
       "      <td>1</td>\n",
       "    </tr>\n",
       "    <tr>\n",
       "      <th>47501</th>\n",
       "      <td>the first film i had to walk out on  and ...</td>\n",
       "      <td>0</td>\n",
       "    </tr>\n",
       "    <tr>\n",
       "      <th>14014</th>\n",
       "      <td>there was a bugs bunny cartoon titled  baby ...</td>\n",
       "      <td>0</td>\n",
       "    </tr>\n",
       "    <tr>\n",
       "      <th>36349</th>\n",
       "      <td>japan 1918  the story of 16 year old ryu beg...</td>\n",
       "      <td>1</td>\n",
       "    </tr>\n",
       "    <tr>\n",
       "      <th>34856</th>\n",
       "      <td>national lampoon goes to the movies   1981 ...</td>\n",
       "      <td>0</td>\n",
       "    </tr>\n",
       "  </tbody>\n",
       "</table>\n",
       "<p>50000 rows × 2 columns</p>\n",
       "</div>"
      ],
      "text/plain": [
       "                                                  review  sentiment\n",
       "5413     on paper this looked like a great concept  a...          1\n",
       "1254     good grief  while i still maintain that mano...          0\n",
       "45908    it s nothing more than a weird coincidence t...          0\n",
       "7992     the plot   in the future when nearly all men...          0\n",
       "45360    i liked it    just that    i liked it  not l...          1\n",
       "...                                                  ...        ...\n",
       "46451    bsg is one of my all time favourite tv serie...          1\n",
       "47501       the first film i had to walk out on  and ...          0\n",
       "14014    there was a bugs bunny cartoon titled  baby ...          0\n",
       "36349    japan 1918  the story of 16 year old ryu beg...          1\n",
       "34856     national lampoon goes to the movies   1981 ...          0\n",
       "\n",
       "[50000 rows x 2 columns]"
      ]
     },
     "execution_count": 137,
     "metadata": {},
     "output_type": "execute_result"
    }
   ],
   "source": [
    "movie\n",
    "# 1 - List ,no small letter ,no html tags"
   ]
  },
  {
   "cell_type": "code",
   "execution_count": 200,
   "id": "93677d43",
   "metadata": {},
   "outputs": [],
   "source": [
    "#  perform stemming\n",
    "\n",
    "from nltk.stem.porter import PorterStemmer\n",
    "ps=PorterStemmer()"
   ]
  },
  {
   "cell_type": "code",
   "execution_count": 201,
   "id": "0919aa03",
   "metadata": {},
   "outputs": [],
   "source": [
    "y=[]\n",
    "def stem_words(text):\n",
    "    for i in text:                # review->List-->words\n",
    "        y.append(ps.stem(i))      # performing function\n",
    "    z=y[:]                       \n",
    "    y.clear()                     # emptying the list for next review\n",
    "    return z"
   ]
  },
  {
   "cell_type": "code",
   "execution_count": 202,
   "id": "b675e142",
   "metadata": {},
   "outputs": [
    {
     "data": {
      "text/plain": [
       "['i', 'love', 'love', 'it']"
      ]
     },
     "execution_count": 202,
     "metadata": {},
     "output_type": "execute_result"
    }
   ],
   "source": [
    "stem_words(['I','loved','loving','it'])"
   ]
  },
  {
   "cell_type": "code",
   "execution_count": 203,
   "id": "338ae165",
   "metadata": {},
   "outputs": [],
   "source": [
    "movie['review']=movie['review'].apply(stem_words)"
   ]
  },
  {
   "cell_type": "code",
   "execution_count": null,
   "id": "139fdb0d",
   "metadata": {},
   "outputs": [],
   "source": [
    "\n"
   ]
  },
  {
   "cell_type": "code",
   "execution_count": 204,
   "id": "2185ac11",
   "metadata": {},
   "outputs": [],
   "source": [
    "#  Join Back\n",
    "\n",
    "def join_back(list_input):\n",
    "    return ' '.join(list_input)"
   ]
  },
  {
   "cell_type": "code",
   "execution_count": 205,
   "id": "e3382c74",
   "metadata": {},
   "outputs": [],
   "source": [
    "movie['review']=movie['review'].apply(join_back)"
   ]
  },
  {
   "cell_type": "code",
   "execution_count": 206,
   "id": "7b750a7e",
   "metadata": {},
   "outputs": [
    {
     "data": {
      "text/html": [
       "<div>\n",
       "<style scoped>\n",
       "    .dataframe tbody tr th:only-of-type {\n",
       "        vertical-align: middle;\n",
       "    }\n",
       "\n",
       "    .dataframe tbody tr th {\n",
       "        vertical-align: top;\n",
       "    }\n",
       "\n",
       "    .dataframe thead th {\n",
       "        text-align: right;\n",
       "    }\n",
       "</style>\n",
       "<table border=\"1\" class=\"dataframe\">\n",
       "  <thead>\n",
       "    <tr style=\"text-align: right;\">\n",
       "      <th></th>\n",
       "      <th>review</th>\n",
       "      <th>sentiment</th>\n",
       "    </tr>\n",
       "  </thead>\n",
       "  <tbody>\n",
       "    <tr>\n",
       "      <th>45638</th>\n",
       "      <td>well definit unlik anyth els direct lynch supe...</td>\n",
       "      <td>1</td>\n",
       "    </tr>\n",
       "    <tr>\n",
       "      <th>40640</th>\n",
       "      <td>scientist john carradin sadli find bring dead ...</td>\n",
       "      <td>0</td>\n",
       "    </tr>\n",
       "    <tr>\n",
       "      <th>6071</th>\n",
       "      <td>thought excel honest portray paralysi racism m...</td>\n",
       "      <td>1</td>\n",
       "    </tr>\n",
       "    <tr>\n",
       "      <th>17791</th>\n",
       "      <td>way mani subject avoid cinema eat disord one f...</td>\n",
       "      <td>1</td>\n",
       "    </tr>\n",
       "    <tr>\n",
       "      <th>1586</th>\n",
       "      <td>caught wild rebel one mysteri scienc theatr 30...</td>\n",
       "      <td>0</td>\n",
       "    </tr>\n",
       "    <tr>\n",
       "      <th>...</th>\n",
       "      <td>...</td>\n",
       "      <td>...</td>\n",
       "    </tr>\n",
       "    <tr>\n",
       "      <th>42252</th>\n",
       "      <td>iphigenia mikhali cacoyanni perhap first film ...</td>\n",
       "      <td>1</td>\n",
       "    </tr>\n",
       "    <tr>\n",
       "      <th>20422</th>\n",
       "      <td>love ghost stori sit movi til end even realli ...</td>\n",
       "      <td>0</td>\n",
       "    </tr>\n",
       "    <tr>\n",
       "      <th>38885</th>\n",
       "      <td>group english pro pleasur watch support cast c...</td>\n",
       "      <td>1</td>\n",
       "    </tr>\n",
       "    <tr>\n",
       "      <th>22729</th>\n",
       "      <td>root canal without anesthesia amus movi distur...</td>\n",
       "      <td>0</td>\n",
       "    </tr>\n",
       "    <tr>\n",
       "      <th>49864</th>\n",
       "      <td>thank help fellow imdb member manag watch film...</td>\n",
       "      <td>1</td>\n",
       "    </tr>\n",
       "  </tbody>\n",
       "</table>\n",
       "<p>50000 rows × 2 columns</p>\n",
       "</div>"
      ],
      "text/plain": [
       "                                                  review  sentiment\n",
       "45638  well definit unlik anyth els direct lynch supe...          1\n",
       "40640  scientist john carradin sadli find bring dead ...          0\n",
       "6071   thought excel honest portray paralysi racism m...          1\n",
       "17791  way mani subject avoid cinema eat disord one f...          1\n",
       "1586   caught wild rebel one mysteri scienc theatr 30...          0\n",
       "...                                                  ...        ...\n",
       "42252  iphigenia mikhali cacoyanni perhap first film ...          1\n",
       "20422  love ghost stori sit movi til end even realli ...          0\n",
       "38885  group english pro pleasur watch support cast c...          1\n",
       "22729  root canal without anesthesia amus movi distur...          0\n",
       "49864  thank help fellow imdb member manag watch film...          1\n",
       "\n",
       "[50000 rows x 2 columns]"
      ]
     },
     "execution_count": 206,
     "metadata": {},
     "output_type": "execute_result"
    }
   ],
   "source": [
    "movie"
   ]
  },
  {
   "cell_type": "code",
   "execution_count": 207,
   "id": "96b1ae42",
   "metadata": {},
   "outputs": [
    {
     "data": {
      "text/plain": [
       "45638    well definit unlik anyth els direct lynch supe...\n",
       "40640    scientist john carradin sadli find bring dead ...\n",
       "6071     thought excel honest portray paralysi racism m...\n",
       "17791    way mani subject avoid cinema eat disord one f...\n",
       "1586     caught wild rebel one mysteri scienc theatr 30...\n",
       "                               ...                        \n",
       "42252    iphigenia mikhali cacoyanni perhap first film ...\n",
       "20422    love ghost stori sit movi til end even realli ...\n",
       "38885    group english pro pleasur watch support cast c...\n",
       "22729    root canal without anesthesia amus movi distur...\n",
       "49864    thank help fellow imdb member manag watch film...\n",
       "Name: review, Length: 50000, dtype: object"
      ]
     },
     "execution_count": 207,
     "metadata": {},
     "output_type": "execute_result"
    }
   ],
   "source": [
    "movie['review']"
   ]
  },
  {
   "cell_type": "code",
   "execution_count": 208,
   "id": "8bc37999",
   "metadata": {},
   "outputs": [],
   "source": [
    "mov=movie.iloc[:,0:1].values"
   ]
  },
  {
   "cell_type": "code",
   "execution_count": 163,
   "id": "35b9c25f",
   "metadata": {},
   "outputs": [
    {
     "data": {
      "text/plain": [
       "(50000, 1)"
      ]
     },
     "execution_count": 163,
     "metadata": {},
     "output_type": "execute_result"
    }
   ],
   "source": [
    "mov.shape"
   ]
  },
  {
   "cell_type": "code",
   "execution_count": 211,
   "id": "cfc7db60",
   "metadata": {},
   "outputs": [],
   "source": [
    "#  To convert in tabular data :\n",
    "# Col --> words that are using in reviews\n",
    "# Rows --> each reviews\n",
    "#  wordcount --> every review, every word\n",
    "#  CountVectorizer class..make objecr 'cv'.\n",
    "# Convert to numpy and stored to variable X"
   ]
  },
  {
   "cell_type": "code",
   "execution_count": 250,
   "id": "ac6bbd18",
   "metadata": {},
   "outputs": [],
   "source": [
    "from sklearn.feature_extraction.text import CountVectorizer\n",
    "cv=CountVectorizer(max_features=1000)\n",
    "# 1000 cols for most used 1000 words\n",
    "\n",
    "# max_features=500 ...otherwise it will take 19 mb of space because it will make 50000+ cols"
   ]
  },
  {
   "cell_type": "code",
   "execution_count": 251,
   "id": "caee2351",
   "metadata": {},
   "outputs": [],
   "source": [
    "X=cv.fit_transform(movie['review']).toarray()"
   ]
  },
  {
   "cell_type": "code",
   "execution_count": 252,
   "id": "07ed254b",
   "metadata": {},
   "outputs": [
    {
     "data": {
      "text/plain": [
       "(50000, 1000)"
      ]
     },
     "execution_count": 252,
     "metadata": {},
     "output_type": "execute_result"
    }
   ],
   "source": [
    "X.shape"
   ]
  },
  {
   "cell_type": "code",
   "execution_count": 253,
   "id": "1765b068",
   "metadata": {},
   "outputs": [
    {
     "data": {
      "text/plain": [
       "0.039"
      ]
     },
     "execution_count": 253,
     "metadata": {},
     "output_type": "execute_result"
    }
   ],
   "source": [
    "X[0].mean()             # all the arrays are stored to 'X'"
   ]
  },
  {
   "cell_type": "code",
   "execution_count": 254,
   "id": "b3b45996",
   "metadata": {},
   "outputs": [],
   "source": [
    "Y=movie.iloc[:,-1].values"
   ]
  },
  {
   "cell_type": "code",
   "execution_count": 255,
   "id": "625445db",
   "metadata": {},
   "outputs": [
    {
     "data": {
      "text/plain": [
       "(50000,)"
      ]
     },
     "execution_count": 255,
     "metadata": {},
     "output_type": "execute_result"
    }
   ],
   "source": [
    "Y.shape"
   ]
  },
  {
   "cell_type": "code",
   "execution_count": 256,
   "id": "f02253c9",
   "metadata": {},
   "outputs": [],
   "source": [
    "#  split the data\n",
    "#  train\n",
    "# test(already having)"
   ]
  },
  {
   "cell_type": "code",
   "execution_count": 257,
   "id": "4799a727",
   "metadata": {},
   "outputs": [],
   "source": [
    "from sklearn.model_selection import train_test_split\n",
    "\n",
    "X_train,X_test,Y_train,Y_test=train_test_split(X,Y,test_size=0.2)"
   ]
  },
  {
   "cell_type": "code",
   "execution_count": 258,
   "id": "0e865f2b",
   "metadata": {},
   "outputs": [
    {
     "data": {
      "text/plain": [
       "(40000, 1000)"
      ]
     },
     "execution_count": 258,
     "metadata": {},
     "output_type": "execute_result"
    }
   ],
   "source": [
    "X_train.shape             # Training the model"
   ]
  },
  {
   "cell_type": "code",
   "execution_count": 259,
   "id": "9c13b6d7",
   "metadata": {},
   "outputs": [
    {
     "data": {
      "text/plain": [
       "(10000, 1000)"
      ]
     },
     "execution_count": 259,
     "metadata": {},
     "output_type": "execute_result"
    }
   ],
   "source": [
    "X_test.shape                # testing the model"
   ]
  },
  {
   "cell_type": "code",
   "execution_count": 260,
   "id": "d9fe9adb",
   "metadata": {},
   "outputs": [
    {
     "data": {
      "text/plain": [
       "(40000,)"
      ]
     },
     "execution_count": 260,
     "metadata": {},
     "output_type": "execute_result"
    }
   ],
   "source": [
    "Y_train.shape          # training the model"
   ]
  },
  {
   "cell_type": "code",
   "execution_count": 261,
   "id": "ec4b3e62",
   "metadata": {},
   "outputs": [
    {
     "data": {
      "text/plain": [
       "(10000,)"
      ]
     },
     "execution_count": 261,
     "metadata": {},
     "output_type": "execute_result"
    }
   ],
   "source": [
    "Y_test.shape               # already have but comapred to the predicted"
   ]
  },
  {
   "cell_type": "code",
   "execution_count": 262,
   "id": "e2d09924",
   "metadata": {},
   "outputs": [],
   "source": [
    "from sklearn.naive_bayes import GaussianNB,MultinomialNB,BernoulliNB"
   ]
  },
  {
   "cell_type": "code",
   "execution_count": 263,
   "id": "12f84686",
   "metadata": {},
   "outputs": [],
   "source": [
    "clf1=GaussianNB()\n",
    "clf2=MultinomialNB()\n",
    "clf3=BernoulliNB()"
   ]
  },
  {
   "cell_type": "code",
   "execution_count": 264,
   "id": "dbc3c0c1",
   "metadata": {},
   "outputs": [
    {
     "data": {
      "text/plain": [
       "BernoulliNB()"
      ]
     },
     "execution_count": 264,
     "metadata": {},
     "output_type": "execute_result"
    }
   ],
   "source": [
    "clf1.fit(X_train,Y_train)\n",
    "clf2.fit(X_train,Y_train)\n",
    "clf3.fit(X_train,Y_train)"
   ]
  },
  {
   "cell_type": "code",
   "execution_count": 265,
   "id": "5c83480c",
   "metadata": {},
   "outputs": [],
   "source": [
    "y_pred1=clf1.predict(X_test)\n",
    "y_pred2=clf2.predict(X_test)\n",
    "y_pred3=clf3.predict(X_test)"
   ]
  },
  {
   "cell_type": "code",
   "execution_count": 266,
   "id": "6852d343",
   "metadata": {},
   "outputs": [
    {
     "data": {
      "text/plain": [
       "(10000,)"
      ]
     },
     "execution_count": 266,
     "metadata": {},
     "output_type": "execute_result"
    }
   ],
   "source": [
    "Y_test.shape"
   ]
  },
  {
   "cell_type": "code",
   "execution_count": 267,
   "id": "e8632ff4",
   "metadata": {},
   "outputs": [
    {
     "data": {
      "text/plain": [
       "(10000,)"
      ]
     },
     "execution_count": 267,
     "metadata": {},
     "output_type": "execute_result"
    }
   ],
   "source": [
    "y_pred_n1.shape"
   ]
  },
  {
   "cell_type": "code",
   "execution_count": 268,
   "id": "4f229bce",
   "metadata": {},
   "outputs": [],
   "source": [
    "from sklearn.metrics import accuracy_score"
   ]
  },
  {
   "cell_type": "code",
   "execution_count": 269,
   "id": "c386b276",
   "metadata": {},
   "outputs": [
    {
     "name": "stdout",
     "output_type": "stream",
     "text": [
      "Gaussian 0.7504\n",
      "Multinomial 0.7818\n",
      "Bernaulli 0.778\n"
     ]
    }
   ],
   "source": [
    "print(\"Gaussian\",accuracy_score(Y_test,y_pred1))\n",
    "print(\"Multinomial\",accuracy_score(Y_test,y_pred2))\n",
    "print(\"Bernaulli\",accuracy_score(Y_test,y_pred3))"
   ]
  },
  {
   "cell_type": "code",
   "execution_count": null,
   "id": "9a10791c",
   "metadata": {},
   "outputs": [],
   "source": []
  },
  {
   "cell_type": "code",
   "execution_count": null,
   "id": "3bfb2748",
   "metadata": {},
   "outputs": [],
   "source": []
  },
  {
   "cell_type": "code",
   "execution_count": null,
   "id": "ef4a4d57",
   "metadata": {},
   "outputs": [],
   "source": []
  },
  {
   "cell_type": "code",
   "execution_count": null,
   "id": "43290f80",
   "metadata": {},
   "outputs": [],
   "source": []
  },
  {
   "cell_type": "code",
   "execution_count": null,
   "id": "a3430fa8",
   "metadata": {},
   "outputs": [],
   "source": []
  },
  {
   "cell_type": "code",
   "execution_count": null,
   "id": "763fa6aa",
   "metadata": {},
   "outputs": [],
   "source": []
  },
  {
   "cell_type": "code",
   "execution_count": null,
   "id": "132bda2a",
   "metadata": {},
   "outputs": [],
   "source": []
  },
  {
   "cell_type": "code",
   "execution_count": null,
   "id": "5fd19691",
   "metadata": {},
   "outputs": [],
   "source": []
  }
 ],
 "metadata": {
  "kernelspec": {
   "display_name": "Python 3 (ipykernel)",
   "language": "python",
   "name": "python3"
  },
  "language_info": {
   "codemirror_mode": {
    "name": "ipython",
    "version": 3
   },
   "file_extension": ".py",
   "mimetype": "text/x-python",
   "name": "python",
   "nbconvert_exporter": "python",
   "pygments_lexer": "ipython3",
   "version": "3.9.13"
  }
 },
 "nbformat": 4,
 "nbformat_minor": 5
}
